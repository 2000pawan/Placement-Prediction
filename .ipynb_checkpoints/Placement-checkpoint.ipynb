{
 "cells": [
  {
   "cell_type": "markdown",
   "id": "7ad21ced-5b50-4d3f-963b-6c21d7320c74",
   "metadata": {},
   "source": [
    "# Placement Pediction"
   ]
  },
  {
   "cell_type": "code",
   "execution_count": 3,
   "id": "e28ce836-9e58-4a9c-ab39-e7b6f3fad20d",
   "metadata": {},
   "outputs": [
    {
     "data": {
      "text/html": [
       "        <script type=\"text/javascript\">\n",
       "        window.PlotlyConfig = {MathJaxConfig: 'local'};\n",
       "        if (window.MathJax && window.MathJax.Hub && window.MathJax.Hub.Config) {window.MathJax.Hub.Config({SVG: {font: \"STIX-Web\"}});}\n",
       "        if (typeof require !== 'undefined') {\n",
       "        require.undef(\"plotly\");\n",
       "        requirejs.config({\n",
       "            paths: {\n",
       "                'plotly': ['https://cdn.plot.ly/plotly-2.12.1.min']\n",
       "            }\n",
       "        });\n",
       "        require(['plotly'], function(Plotly) {\n",
       "            window._Plotly = Plotly;\n",
       "        });\n",
       "        }\n",
       "        </script>\n",
       "        "
      ]
     },
     "metadata": {},
     "output_type": "display_data"
    }
   ],
   "source": [
    "import pandas as pd\n",
    "import numpy as np\n",
    "import seaborn as sns\n",
    "import matplotlib.pyplot as plt\n",
    "import plotly.express as px\n",
    "from plotly.offline import init_notebook_mode,iplot\n",
    "init_notebook_mode(connected=True)\n",
    "from sklearn.preprocessing import StandardScaler\n",
    "from sklearn.model_selection import train_test_split\n",
    "from sklearn.metrics import accuracy_score\n",
    "import joblib\n",
    "from sklearn.linear_model import LogisticRegression\n",
    "from sklearn.svm import SVC\n",
    "from sklearn.tree import DecisionTreeClassifier\n",
    "from sklearn.ensemble import RandomForestClassifier\n",
    "from sklearn.neighbors import KNeighborsClassifier\n",
    "from sklearn.preprocessing import PolynomialFeatures"
   ]
  },
  {
   "cell_type": "markdown",
   "id": "82193244-faad-4ee5-83ad-eeb8ceea9d76",
   "metadata": {},
   "source": [
    "# EDA"
   ]
  },
  {
   "cell_type": "code",
   "execution_count": 4,
   "id": "1b9c43f4-7351-4702-a32d-70fbbd095d9b",
   "metadata": {},
   "outputs": [],
   "source": [
    "# df=pd.read_csv('collegePlace.csv')\n",
    "# x=[df.columns]\n",
    "# z=[]\n",
    "# for i in x:\n",
    "#     for j in i:\n",
    "#         z.append((j,df[j].unique()))\n",
    "#         z.append('----------------------------------------------------------------------------------')\n",
    "# print(z)\n",
    "# df.sample(5)\n",
    "# df.describe()\n",
    "# df.drop(['Gender','Stream'],axis=1,inplace=True)\n",
    "# df.corr()['PlacedOrNot']\n",
    "# df.dtypes\n",
    "# df.columns\n",
    "# df.duplicated().sum()\n",
    "# df.drop_duplicates(inplace=True)\n",
    "# df.duplicated().sum()\n",
    "# df.shape\n",
    "# fig=px.scatter(df,x='CGPA',y='Internships',color='PlacedOrNot',hover_data=[\"CGPA\"])\n",
    "# fig.show()\n",
    "# px.histogram(df,x='PlacedOrNot',color='PlacedOrNot',barmode='group')\n",
    "# fig=px.pie(df,values=df['PlacedOrNot'].value_counts().values,names=df['PlacedOrNot'].value_counts().index,title='PlacedOrNot')\n",
    "# fig.show()\n",
    "# print(\"Max Age of Placed Person: \",df[(df['Age'] == df['Age'].max()) & (df['PlacedOrNot']==1)]['Age'].values[0])  \n",
    "# print(\"Min Age of Placed Person: \",df[(df['Age'] == df['Age'].min()) & (df['PlacedOrNot']==1)]['Age'].values[0])  \n",
    "# print(\"Max Internships Done by the Placed Student: \",df[(df['Internships'] == df['Internships'].max()) & (df['PlacedOrNot']==1)]['Internships'].values[0])  \n",
    "# print(\"No of students who did max Internships and are placed: \",df[(df['Internships'] == df['Internships'].max()) & (df['PlacedOrNot']==1)]['Internships'].value_counts().values[0])  \n",
    "# print(\"Min Internships Done by the Placed Person: \",df[(df['Internships'] == df['Internships'].min()) & (df['PlacedOrNot']==1)]['Internships'].values[0])  \n",
    "# print(\"No of students who did min Internships and are placed: \",df[(df['Internships'] == df['Internships'].min()) & (df['PlacedOrNot']==1)]['Internships'].value_counts().values[0])  \n",
    "# print(\"Max CGPA of Placed Student: \",df[(df['CGPA'] == df['CGPA'].max()) & (df['PlacedOrNot']==1)]['CGPA'].values[0])  \n",
    "# print(\"No of students has max CGPA and are placed: \",df[(df['CGPA'] == df['CGPA'].max()) & (df['PlacedOrNot']==1)]['CGPA'].value_counts().values[0])  \n",
    "# print(\"Min CGPA of Placed Person: \",df[(df['CGPA'] == df['CGPA'].min()) & (df['PlacedOrNot']==1)]['CGPA'].values[0])  \n",
    "# print(\"No of students has min CGPA and are placed: \",df[(df['CGPA'] == df['CGPA'].min()) & (df['PlacedOrNot']==1)]['CGPA'].value_counts().values[0]) \n",
    "# fig=px.box(df,y='CGPA')\n",
    "# fig.show()\n",
    "# fig=px.box(df,y='Age')\n",
    "# fig.show()\n",
    "# fig=px.box(df,y=['Internships','CGPA','Age'])\n",
    "# fig.show()\n",
    "# df['Gender']=df['Gender'].map({'Female':0,'Male':1})\n",
    "# df\n",
    "# df['Stream']=df['Stream'].map({'Electronics And Communication':1,'Computer Science':2,'Information Technology':3,'Mechanical':4,'Electrical':5,'Civil':6})\n",
    "# df.sample(10)"
   ]
  },
  {
   "cell_type": "markdown",
   "id": "dd61482a-07ea-451f-9ca9-a4a10ed31bb3",
   "metadata": {},
   "source": [
    "# Model Train"
   ]
  },
  {
   "cell_type": "code",
   "execution_count": 5,
   "id": "20b61a11-f25c-4f8b-8cda-29f1d99092c6",
   "metadata": {},
   "outputs": [],
   "source": [
    "df=pd.read_csv('collegePlace.csv')\n",
    "df.drop_duplicates(inplace=True)\n",
    "# df.drop(['Hostel'],axis=1,inplace=True)\n",
    "df['Gender']=df['Gender'].map({'Female':0,'Male':1})\n",
    "df['Stream']=df['Stream'].map({'Electronics And Communication':1,'Computer Science':2,'Information Technology':3,'Mechanical':4,'Electrical':5,'Civil':6})\n",
    "X=df.iloc[:,:7]\n",
    "y=df.iloc[:,-1]\n",
    "X_train,X_test,y_train,y_test=train_test_split(X,y,random_state=10,test_size=0.33)\n",
    "sc=StandardScaler()\n",
    "X_train_new1=sc.fit_transform(X_train)\n",
    "X_test_new1=sc.transform(X_test)\n",
    "pf=PolynomialFeatures(degree=5)\n",
    "X_train_new=pf.fit_transform(X_train_new1)\n",
    "X_test_new=pf.transform(X_test_new1)"
   ]
  },
  {
   "cell_type": "markdown",
   "id": "8a4aeff1-d12a-4d62-a522-8ddba8a8c327",
   "metadata": {},
   "source": [
    "1. KNN"
   ]
  },
  {
   "cell_type": "code",
   "execution_count": 6,
   "id": "b77b74c0-3ed3-4436-815a-d6933c2e925b",
   "metadata": {},
   "outputs": [
    {
     "name": "stdout",
     "output_type": "stream",
     "text": [
      "Training Score :- 0.8646517739816032\n",
      "Testing Score:- 0.6781914893617021\n"
     ]
    }
   ],
   "source": [
    "model=KNeighborsClassifier(n_neighbors=3)\n",
    "model.fit(X_train_new,y_train)\n",
    "print('Training Score :-',model.score(X_train_new,y_train))\n",
    "print('Testing Score:-',model.score(X_test_new,y_test))"
   ]
  },
  {
   "cell_type": "markdown",
   "id": "62b2313f-642c-4db4-aed6-1f794e90e831",
   "metadata": {},
   "source": [
    "2. Decision Tree"
   ]
  },
  {
   "cell_type": "code",
   "execution_count": 7,
   "id": "7842e92c-bc2e-4a9f-bee7-56d4a46f2f12",
   "metadata": {},
   "outputs": [
    {
     "name": "stdout",
     "output_type": "stream",
     "text": [
      "Training Score :- 0.8528252299605782\n",
      "Testing Score:- 0.7819148936170213\n"
     ]
    }
   ],
   "source": [
    "model=DecisionTreeClassifier(max_depth=5,random_state=0)\n",
    "model.fit(X_train_new,y_train)\n",
    "print('Training Score :-',model.score(X_train_new,y_train))\n",
    "print('Testing Score:-',model.score(X_test_new,y_test))"
   ]
  },
  {
   "cell_type": "markdown",
   "id": "e1748d70-dc17-49d5-aefd-5a1a16099f39",
   "metadata": {},
   "source": [
    "3. Random Forest"
   ]
  },
  {
   "cell_type": "code",
   "execution_count": 8,
   "id": "3997301f-012c-47ec-ad51-e20611763af8",
   "metadata": {},
   "outputs": [
    {
     "name": "stdout",
     "output_type": "stream",
     "text": [
      "Training Score :- 0.8633377135348226\n",
      "Testing Score:- 0.8058510638297872\n"
     ]
    }
   ],
   "source": [
    "model=RandomForestClassifier(max_depth=5,random_state=0)\n",
    "model.fit(X_train_new,y_train)\n",
    "print('Training Score :-',model.score(X_train_new,y_train))\n",
    "print('Testing Score:-',model.score(X_test_new,y_test))"
   ]
  },
  {
   "cell_type": "markdown",
   "id": "652281c0-99ae-41bb-8de8-77953d964d33",
   "metadata": {},
   "source": [
    "4. SVM"
   ]
  },
  {
   "cell_type": "code",
   "execution_count": 9,
   "id": "330f7985-35bd-43d4-b375-312fb9962975",
   "metadata": {},
   "outputs": [
    {
     "name": "stdout",
     "output_type": "stream",
     "text": [
      "Training Score :- 0.7411300919842313\n",
      "Testing Score:- 0.6622340425531915\n"
     ]
    }
   ],
   "source": [
    "model=SVC()\n",
    "model.fit(X_train_new,y_train)\n",
    "print('Training Score :-',model.score(X_train_new,y_train))\n",
    "print('Testing Score:-',model.score(X_test_new,y_test))"
   ]
  },
  {
   "cell_type": "markdown",
   "id": "69512e32-cfb0-4e28-bfcf-efa5403e988d",
   "metadata": {},
   "source": [
    "6. Logistics Regression"
   ]
  },
  {
   "cell_type": "code",
   "execution_count": 10,
   "id": "aba2f8d9-b5b2-41d6-86b6-dd38d3a1f9b0",
   "metadata": {},
   "outputs": [
    {
     "name": "stdout",
     "output_type": "stream",
     "text": [
      "Training Score :- 0.9224704336399474\n",
      "Testing Score:- 0.7180851063829787\n"
     ]
    }
   ],
   "source": [
    "model=LogisticRegression(max_iter=1000)\n",
    "model.fit(X_train_new,y_train)\n",
    "print('Training Score :-',model.score(X_train_new,y_train))\n",
    "print('Testing Score:-',model.score(X_test_new,y_test))"
   ]
  },
  {
   "cell_type": "code",
   "execution_count": 59,
   "id": "373d066b-30b3-4a41-a7b8-5b44a405df5a",
   "metadata": {},
   "outputs": [
    {
     "name": "stdout",
     "output_type": "stream",
     "text": [
      "Accuracy:  0.793859649122807 0.8393839383938394\n"
     ]
    }
   ],
   "source": [
    "df=pd.read_csv('collegePlace.csv')\n",
    "df.drop_duplicates(inplace=True)\n",
    "df['Gender']=df['Gender'].map({'Female':0,'Male':1})\n",
    "df['Stream']=df['Stream'].map({'Electronics And Communication':1,'Computer Science':2,'Information Technology':3,'Mechanical':4,'Electrical':5,'Civil':6})\n",
    "X=df.iloc[:,:7]\n",
    "y=df.iloc[:,-1]\n",
    "X_train,X_test,y_train,y_test=train_test_split(X,y,random_state=10,test_size=0.20)\n",
    "sc=StandardScaler()\n",
    "X_train_new=sc.fit_transform(X_train)\n",
    "X_test_new=sc.transform(X_test)\n",
    "model=RandomForestClassifier(max_depth=5,n_estimators=500)\n",
    "model.fit(X_train_new,y_train)  \n",
    "y_pred = model.predict(X_test_new)  \n",
    "print(\"Accuracy: \",accuracy_score(y_test,y_pred),model.score(X_train_new,y_train))"
   ]
  },
  {
   "cell_type": "code",
   "execution_count": 60,
   "id": "72d99018-7c4c-4be8-be50-198e029bdf33",
   "metadata": {},
   "outputs": [
    {
     "data": {
      "text/plain": [
       "['sc.pkl']"
      ]
     },
     "execution_count": 60,
     "metadata": {},
     "output_type": "execute_result"
    }
   ],
   "source": [
    "joblib.dump(model,'model.pkl')\n",
    "joblib.dump(sc,'sc.pkl')"
   ]
  },
  {
   "cell_type": "code",
   "execution_count": 67,
   "id": "e06882b4-6276-442b-8854-48ba400bc182",
   "metadata": {},
   "outputs": [],
   "source": [
    "# df7=X\n",
    "# df7.to_csv('test.csv')"
   ]
  },
  {
   "cell_type": "code",
   "execution_count": null,
   "id": "f05c7e09-f92d-4f05-88c1-e192a4a10f7b",
   "metadata": {},
   "outputs": [],
   "source": []
  }
 ],
 "metadata": {
  "kernelspec": {
   "display_name": "Python 3 (ipykernel)",
   "language": "python",
   "name": "python3"
  },
  "language_info": {
   "codemirror_mode": {
    "name": "ipython",
    "version": 3
   },
   "file_extension": ".py",
   "mimetype": "text/x-python",
   "name": "python",
   "nbconvert_exporter": "python",
   "pygments_lexer": "ipython3",
   "version": "3.11.7"
  },
  "widgets": {
   "application/vnd.jupyter.widget-state+json": {
    "state": {},
    "version_major": 2,
    "version_minor": 0
   }
  }
 },
 "nbformat": 4,
 "nbformat_minor": 5
}
